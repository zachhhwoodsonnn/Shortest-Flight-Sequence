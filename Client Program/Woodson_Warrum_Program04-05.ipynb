{
 "cells": [
  {
   "cell_type": "code",
   "execution_count": null,
   "id": "9d68cf58-606d-4e8f-bfb9-f354c1465087",
   "metadata": {},
   "outputs": [],
   "source": [
    "from WeightedGraph import *\n",
    "\n",
    "g = WeightedGraph()\n",
    "input_vertices = open('Vertices.dat', mode='r')\n",
    "\n",
    "vertices = []\n",
    "for line in input_vertices:\n",
    "    city = line.strip()\n",
    "    vertices.append(city)\n",
    "    g.addVertex(Vertex(city))\n",
    "\n",
    "input_edges = open('Edges.dat', mode='r')\n",
    "edges = []\n",
    "for line in input_edges:\n",
    "    from_city, to_city, weight = line.strip().split(', ')\n",
    "    weight = int(weight)\n",
    "    from_index = vertices.index(from_city)\n",
    "    to_index = vertices.index(to_city)\n",
    "    g.addEdge(from_index, to_index, weight)\n",
    "\n",
    "sorted_cities = []\n",
    "for vertex in sorted(vertices):\n",
    "    sorted_cities.append(vertex)\n",
    "print(sorted_cities)\n",
    "print()\n",
    "\n",
    "starting_point = input(\"Enter your starting destination: \")\n",
    "\n",
    "ending_point = input(\"Where would you like to travel to: \")\n",
    "print()\n",
    "\n",
    "shortest = g.shortestPath(vertices.index(starting_point), vertices.index(ending_point))\n",
    "\n",
    "weight = 0\n",
    "for i in range(len(shortest) - 1):\n",
    "    vertex1 = vertices.index(shortest[i])\n",
    "    vertex2 = vertices.index(shortest[i + 1])\n",
    "    edge_weight = g.edgeWeight(vertex1, vertex2)\n",
    "    weight += edge_weight\n",
    "    \n",
    "print(f'The shortest path from {starting_point} to {ending_point} is: {shortest}.\\nThe total cost is: {weight}')"
   ]
  },
  {
   "cell_type": "code",
   "execution_count": null,
   "id": "5021dca1-7d6b-405b-90e8-ee4e22963f07",
   "metadata": {},
   "outputs": [],
   "source": []
  }
 ],
 "metadata": {
  "kernelspec": {
   "display_name": "Python 3 (ipykernel)",
   "language": "python",
   "name": "python3"
  },
  "language_info": {
   "codemirror_mode": {
    "name": "ipython",
    "version": 3
   },
   "file_extension": ".py",
   "mimetype": "text/x-python",
   "name": "python",
   "nbconvert_exporter": "python",
   "pygments_lexer": "ipython3",
   "version": "3.9.12"
  }
 },
 "nbformat": 4,
 "nbformat_minor": 5
}
